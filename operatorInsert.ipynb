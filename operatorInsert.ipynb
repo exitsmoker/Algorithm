{
 "cells": [
  {
   "cell_type": "code",
   "execution_count": 16,
   "metadata": {},
   "outputs": [
    {
     "name": "stdout",
     "output_type": "stream",
     "text": [
      "6\n",
      "1 2 3 4 5 6\n",
      "2 1 1 1\n",
      "54\n",
      "-24\n"
     ]
    }
   ],
   "source": [
    "def nextPermutation(a):\n",
    "    i, j = len(a)-1, len(a)-1\n",
    "    \n",
    "    while i > 0 and a[i] <= a[i-1]:\n",
    "        i -= 1\n",
    "        \n",
    "    if i <= 0:\n",
    "        return False\n",
    "    \n",
    "    i = i-1 #For matching index number\n",
    "    \n",
    "    while a[j] <= a[i]:\n",
    "        j = j-1\n",
    "\n",
    "    a[j], a[i] = a[i], a[j]\n",
    "            \n",
    "    j = len(a)-1 #the last index of the list\n",
    "    i = i+1 #the index after the index switched before\n",
    "            \n",
    "    while j > i:\n",
    "        a[i], a[j] = a[j], a[i]\n",
    "        i += 1\n",
    "        j -= 1\n",
    "                \n",
    "    return True  \n",
    "\n",
    "n = int(input())\n",
    "L = list(map(int,input().split()))\n",
    "o = list(map(int,input().split()))\n",
    "'''\n",
    "oL = [0] * o[0] + [1] * o[1] + [2] * o[2] + [3] * o[3]\n",
    "'''\n",
    "oL = []\n",
    "for i, t in enumerate(o):\n",
    "    for k in range(t):\n",
    "        oL.append(i)\n",
    "'''        \n",
    "minR = 100000000\n",
    "maxR = -100000000\n",
    "'''\n",
    "\n",
    "answer = []\n",
    "\n",
    "while True:\n",
    "    temp = 0\n",
    "    \n",
    "    for i in range(n-1):\n",
    "        if i==0:\n",
    "            temp = L[i]\n",
    "        if oL[i] == 0:\n",
    "            temp += L[i+1]\n",
    "        elif oL[i] == 1:\n",
    "            temp -= L[i+1]\n",
    "        elif oL[i] == 2:\n",
    "            temp = temp * L[i+1]\n",
    "        elif oL[i] == 3:\n",
    "            if temp < 0:\n",
    "                temp = -(-temp // L[i+1])\n",
    "            else:\n",
    "                temp = temp // L[i+1]\n",
    "                \n",
    "    '''                \n",
    "    if temp < minR:\n",
    "        minR = temp\n",
    "    if temp > maxR:\n",
    "        maxR = temp\n",
    "    '''\n",
    "    answer.append(temp)\n",
    "    \n",
    "    if not nextPermutation(oL):\n",
    "        break\n",
    "\n",
    "answer.sort()        \n",
    "print(answer[-1])\n",
    "print(answer[0])"
   ]
  },
  {
   "cell_type": "markdown",
   "metadata": {},
   "source": [
    "'''\n",
    "2\n",
    "5 6\n",
    "0 0 1 0\n",
    "\n",
    "3\n",
    "3 4 5\n",
    "1 0 1 0\n",
    "\n",
    "6\n",
    "1 2 3 4 5 6\n",
    "2 1 1 1\n",
    "'''"
   ]
  },
  {
   "cell_type": "code",
   "execution_count": 8,
   "metadata": {},
   "outputs": [
    {
     "data": {
      "text/plain": [
       "0"
      ]
     },
     "execution_count": 8,
     "metadata": {},
     "output_type": "execute_result"
    }
   ],
   "source": [
    "1 // 3"
   ]
  },
  {
   "cell_type": "code",
   "execution_count": null,
   "metadata": {},
   "outputs": [],
   "source": []
  }
 ],
 "metadata": {
  "kernelspec": {
   "display_name": "Python 3",
   "language": "python",
   "name": "python3"
  },
  "language_info": {
   "codemirror_mode": {
    "name": "ipython",
    "version": 3
   },
   "file_extension": ".py",
   "mimetype": "text/x-python",
   "name": "python",
   "nbconvert_exporter": "python",
   "pygments_lexer": "ipython3",
   "version": "3.7.0"
  }
 },
 "nbformat": 4,
 "nbformat_minor": 2
}
