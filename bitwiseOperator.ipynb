{
 "cells": [
  {
   "cell_type": "code",
   "execution_count": 9,
   "metadata": {},
   "outputs": [
    {
     "ename": "ValueError",
     "evalue": "invalid literal for int() with base 10: ''",
     "output_type": "error",
     "traceback": [
      "\u001b[0;31m---------------------------------------------------------------------------\u001b[0m",
      "\u001b[0;31mValueError\u001b[0m                                Traceback (most recent call last)",
      "\u001b[0;32m<ipython-input-9-95b22b1a1d75>\u001b[0m in \u001b[0;36m<module>\u001b[0;34m\u001b[0m\n\u001b[1;32m      1\u001b[0m \u001b[0;32mfrom\u001b[0m \u001b[0msys\u001b[0m \u001b[0;32mimport\u001b[0m \u001b[0mstdin\u001b[0m\u001b[0;34m,\u001b[0m \u001b[0mstdout\u001b[0m\u001b[0;34m\u001b[0m\u001b[0m\n\u001b[1;32m      2\u001b[0m \u001b[0;34m\u001b[0m\u001b[0m\n\u001b[0;32m----> 3\u001b[0;31m \u001b[0mn\u001b[0m \u001b[0;34m=\u001b[0m \u001b[0mint\u001b[0m\u001b[0;34m(\u001b[0m\u001b[0mstdin\u001b[0m\u001b[0;34m.\u001b[0m\u001b[0mreadline\u001b[0m\u001b[0;34m(\u001b[0m\u001b[0;34m)\u001b[0m\u001b[0;34m)\u001b[0m\u001b[0;34m\u001b[0m\u001b[0m\n\u001b[0m\u001b[1;32m      4\u001b[0m \u001b[0ms\u001b[0m \u001b[0;34m=\u001b[0m \u001b[0;36m0\u001b[0m\u001b[0;34m\u001b[0m\u001b[0m\n\u001b[1;32m      5\u001b[0m \u001b[0;34m\u001b[0m\u001b[0m\n",
      "\u001b[0;31mValueError\u001b[0m: invalid literal for int() with base 10: ''"
     ]
    }
   ],
   "source": [
    "from sys import stdin, stdout\n",
    "\n",
    "n = int(stdin.readline())\n",
    "s = 0\n",
    "\n",
    "while True:\n",
    "    o = stdin.readline().split()\n",
    "    \n",
    "    if o[0] == \"add\":\n",
    "        s = s | 1 << (int(o[1]) - 1)\n",
    "    elif o[0] == \"remove\":\n",
    "        s = s & ~(1 << (int(o[1]) - 1))\n",
    "    elif o[0] == \"check\":\n",
    "        if((s & 1 << (int(o[1]) - 1)) > 0):\n",
    "            stdout.write('1\\n')\n",
    "        else:\n",
    "            stdout.write('0\\n')\n",
    "    elif o[0] == \"toggle\":\n",
    "        s = s ^ 1 << int(o[1]) - 1\n",
    "    elif o[0] == \"all\":\n",
    "        s = (1 << 20) - 1\n",
    "    elif o[0] == \"empty\":\n",
    "        s = 0\n",
    "    \n",
    "    n -= 1\n",
    "    \n",
    "    if(n == 0):\n",
    "        break\n",
    "        "
   ]
  },
  {
   "cell_type": "code",
   "execution_count": 10,
   "metadata": {},
   "outputs": [],
   "source": [
    "# 26\n",
    "# add 1\n",
    "# add 2\n",
    "# check 1\n",
    "# check 2\n",
    "# check 3\n",
    "# remove 2\n",
    "# check 1\n",
    "# check 2\n",
    "# toggle 3\n",
    "# check 1\n",
    "# check 2\n",
    "# check 3\n",
    "# check 4\n",
    "# all\n",
    "# check 10\n",
    "# check 20\n",
    "# toggle 10\n",
    "# remove 20\n",
    "# check 10\n",
    "# check 20\n",
    "# empty\n",
    "# check 1\n",
    "# toggle 1\n",
    "# check 1\n",
    "# toggle 1\n",
    "# check 1"
   ]
  },
  {
   "cell_type": "code",
   "execution_count": 11,
   "metadata": {},
   "outputs": [],
   "source": [
    "n = stdin.readline()"
   ]
  },
  {
   "cell_type": "code",
   "execution_count": null,
   "metadata": {},
   "outputs": [],
   "source": []
  }
 ],
 "metadata": {
  "kernelspec": {
   "display_name": "Python 3",
   "language": "python",
   "name": "python3"
  },
  "language_info": {
   "codemirror_mode": {
    "name": "ipython",
    "version": 3
   },
   "file_extension": ".py",
   "mimetype": "text/x-python",
   "name": "python",
   "nbconvert_exporter": "python",
   "pygments_lexer": "ipython3",
   "version": "3.7.0"
  }
 },
 "nbformat": 4,
 "nbformat_minor": 2
}
