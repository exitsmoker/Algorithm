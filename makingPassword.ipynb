{
 "cells": [
  {
   "cell_type": "code",
   "execution_count": 13,
   "metadata": {},
   "outputs": [
    {
     "name": "stdout",
     "output_type": "stream",
     "text": [
      "4 6\n",
      "a t c i s w\n",
      "acis\n",
      "acit\n",
      "aciw\n",
      "acst\n",
      "acsw\n",
      "actw\n",
      "aist\n",
      "aisw\n",
      "aitw\n",
      "astw\n",
      "cist\n",
      "cisw\n",
      "citw\n",
      "istw\n"
     ]
    }
   ],
   "source": [
    "n, m = map(int, input().split())\n",
    "chL = list(input().split())\n",
    "password = ''\n",
    "i = 0\n",
    "chL.sort()\n",
    "def makePassword(n, chL, password, i):\n",
    "    if len(password) == n:\n",
    "        if check(password):\n",
    "            print(password)\n",
    "            return\n",
    "    \n",
    "    if i >= len(chL):\n",
    "        return\n",
    "    \n",
    "    makePassword(n, chL, password+chL[i], i+1)\n",
    "    makePassword(n, chL, password, i+1)\n",
    "\n",
    "def check(password):\n",
    "    con = 0\n",
    "    no = 0\n",
    "    for i, c in enumerate(password):\n",
    "        if c == 'a' or c == 'e' or c == 'i' or c == 'o' or c == 'u':\n",
    "            no += 1\n",
    "        else:\n",
    "            con += 1\n",
    "    \n",
    "    if no >= 1 and con >= 2:\n",
    "        return True\n",
    "    \n",
    "    return False\n",
    "\n",
    "makePassword(n, chL, password, i)"
   ]
  },
  {
   "cell_type": "code",
   "execution_count": null,
   "metadata": {},
   "outputs": [],
   "source": [
    "'''\n",
    "4 6\n",
    "a t c i s w\n",
    "'''"
   ]
  }
 ],
 "metadata": {
  "kernelspec": {
   "display_name": "Python 3",
   "language": "python",
   "name": "python3"
  },
  "language_info": {
   "codemirror_mode": {
    "name": "ipython",
    "version": 3
   },
   "file_extension": ".py",
   "mimetype": "text/x-python",
   "name": "python",
   "nbconvert_exporter": "python",
   "pygments_lexer": "ipython3",
   "version": "3.7.0"
  }
 },
 "nbformat": 4,
 "nbformat_minor": 2
}
