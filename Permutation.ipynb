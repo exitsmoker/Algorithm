{
 "cells": [
  {
   "cell_type": "code",
   "execution_count": 3,
   "metadata": {},
   "outputs": [
    {
     "name": "stdout",
     "output_type": "stream",
     "text": [
      "1 2 3\n",
      "1 3 2\n",
      "2 1 3\n",
      "2 3 1\n",
      "3 1 2\n",
      "3 2 1\n"
     ]
    }
   ],
   "source": [
    "testList = [1, 2, 3]\n",
    "b = [3, 2, 1]\n",
    "n = 3\n",
    "\n",
    "def nextPermutation(a):\n",
    "    i, j = len(a)-1, len(a)-1\n",
    "    \n",
    "    while i > 0 and a[i] <= a[i-1]:\n",
    "        i -= 1\n",
    "        \n",
    "    if i <= 0:\n",
    "        return False\n",
    "    \n",
    "    i = i-1 #For matching index number\n",
    "    \n",
    "    while a[j] <= a[i]:\n",
    "        j = j-1\n",
    "\n",
    "    a[j], a[i] = a[i], a[j]\n",
    "            \n",
    "    j = len(a)-1 #the last index of the list\n",
    "    i = i+1 #the index after the index switched before\n",
    "            \n",
    "    while j > i:\n",
    "        a[i], a[j] = a[j], a[i]\n",
    "        i += 1\n",
    "        j -= 1\n",
    "                \n",
    "    return True    \n",
    "            \n",
    "\n",
    "\n",
    "def prevPermutation(a):\n",
    "    i, j = len(a)-1, len(a)-1\n",
    "    \n",
    "    while i > 0 and a[i] >= a[i-1]:\n",
    "        i -= 1\n",
    "        \n",
    "    if i <= 0:\n",
    "        return False\n",
    "    \n",
    "    i = i-1 #For matching index number\n",
    "    \n",
    "    while a[j] >= a[i]:\n",
    "        j = j-1\n",
    "\n",
    "    a[j], a[i] = a[i], a[j]\n",
    "            \n",
    "    j = len(a)-1 #the last index of the list\n",
    "    i = i+1 #the index after the index switched before\n",
    "            \n",
    "    while j > i:\n",
    "        a[i], a[j] = a[j], a[i]\n",
    "        i += 1\n",
    "        j -= 1\n",
    "                \n",
    "    return True    \n",
    "\n",
    "    \n",
    "n = 3\n",
    "a = list(range(1, n+1))\n",
    "print(' '.join(map(str,a)))\n",
    "\n",
    "while(nextPermutation(a)):\n",
    "    print(' '.join(map(str,a)))\n",
    "    \n",
    "    \n"
   ]
  },
  {
   "cell_type": "code",
   "execution_count": null,
   "metadata": {},
   "outputs": [],
   "source": []
  },
  {
   "cell_type": "code",
   "execution_count": null,
   "metadata": {},
   "outputs": [],
   "source": []
  }
 ],
 "metadata": {
  "kernelspec": {
   "display_name": "Python 3",
   "language": "python",
   "name": "python3"
  },
  "language_info": {
   "codemirror_mode": {
    "name": "ipython",
    "version": 3
   },
   "file_extension": ".py",
   "mimetype": "text/x-python",
   "name": "python",
   "nbconvert_exporter": "python",
   "pygments_lexer": "ipython3",
   "version": "3.7.0"
  }
 },
 "nbformat": 4,
 "nbformat_minor": 2
}
