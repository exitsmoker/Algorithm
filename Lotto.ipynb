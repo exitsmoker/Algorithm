{
 "cells": [
  {
   "cell_type": "code",
   "execution_count": 4,
   "metadata": {},
   "outputs": [
    {
     "name": "stdout",
     "output_type": "stream",
     "text": [
      "7 1 2 3 4 5 6 7\n",
      "1 2 3 4 5 6\n",
      "1 2 3 4 5 7\n",
      "1 2 3 4 6 7\n",
      "1 2 3 5 6 7\n",
      "1 2 4 5 6 7\n",
      "1 3 4 5 6 7\n",
      "2 3 4 5 6 7\n",
      "8 1 2 3 5 8 13 21 34\n",
      "\n",
      "1 2 3 5 8 13\n",
      "1 2 3 5 8 21\n",
      "1 2 3 5 8 34\n",
      "1 2 3 5 13 21\n",
      "1 2 3 5 13 34\n",
      "1 2 3 5 21 34\n",
      "1 2 3 8 13 21\n",
      "1 2 3 8 13 34\n",
      "1 2 3 8 21 34\n",
      "1 2 3 13 21 34\n",
      "1 2 5 8 13 21\n",
      "1 2 5 8 13 34\n",
      "1 2 5 8 21 34\n",
      "1 2 5 13 21 34\n",
      "1 2 8 13 21 34\n",
      "1 3 5 8 13 21\n",
      "1 3 5 8 13 34\n",
      "1 3 5 8 21 34\n",
      "1 3 5 13 21 34\n",
      "1 3 8 13 21 34\n",
      "1 5 8 13 21 34\n",
      "2 3 5 8 13 21\n",
      "2 3 5 8 13 34\n",
      "2 3 5 8 21 34\n",
      "2 3 5 13 21 34\n",
      "2 3 8 13 21 34\n",
      "2 5 8 13 21 34\n",
      "3 5 8 13 21 34\n",
      "0\n"
     ]
    }
   ],
   "source": [
    "def nextPermutation(a):\n",
    "    i, j = len(a)-1, len(a)-1\n",
    "    \n",
    "    while i > 0 and a[i] <= a[i-1]:\n",
    "        i -= 1\n",
    "        \n",
    "    if i <= 0:\n",
    "        return False\n",
    "    \n",
    "    i = i-1 #For matching index number\n",
    "    \n",
    "    while a[j] <= a[i]:\n",
    "        j = j-1\n",
    "\n",
    "    a[j], a[i] = a[i], a[j]\n",
    "            \n",
    "    j = len(a)-1 #the last index of the list\n",
    "    i = i+1 #the index after the index switched before\n",
    "            \n",
    "    while j > i:\n",
    "        a[i], a[j] = a[j], a[i]\n",
    "        i += 1\n",
    "        j -= 1\n",
    "                \n",
    "    return True    \n",
    "\n",
    "check = False\n",
    "\n",
    "while True:\n",
    "    n, *In = list(map(int, input().split()))\n",
    "#    n = In[0]\n",
    "    if n == 0:\n",
    "        break\n",
    "#    In = In[1:]\n",
    "    if check == True:\n",
    "        print()\n",
    "    else:\n",
    "        check = True\n",
    "    selL = [1]*6 + [2]*(n-6)\n",
    "    \n",
    "    while True:\n",
    "        '''\n",
    "        answer = []\n",
    "        for i in range(n):\n",
    "            if selL[i] == 1:\n",
    "                answer.append(In[i])\n",
    "        '''\n",
    "        answer = [In[i] for i in range(n) if selL[i] == 1]\n",
    "        print(' '.join(map(str,answer)))\n",
    "        if not nextPermutation(selL):\n",
    "            break\n"
   ]
  },
  {
   "cell_type": "code",
   "execution_count": 6,
   "metadata": {},
   "outputs": [
    {
     "data": {
      "text/plain": [
       "'\\n7 1 2 3 4 5 6 7\\n8 1 2 3 5 8 13 21 34\\n0\\n'"
      ]
     },
     "execution_count": 6,
     "metadata": {},
     "output_type": "execute_result"
    }
   ],
   "source": [
    "'''\n",
    "7 1 2 3 4 5 6 7\n",
    "8 1 2 3 5 8 13 21 34\n",
    "0\n",
    "'''"
   ]
  },
  {
   "cell_type": "code",
   "execution_count": null,
   "metadata": {},
   "outputs": [],
   "source": []
  }
 ],
 "metadata": {
  "kernelspec": {
   "display_name": "Python 3",
   "language": "python",
   "name": "python3"
  },
  "language_info": {
   "codemirror_mode": {
    "name": "ipython",
    "version": 3
   },
   "file_extension": ".py",
   "mimetype": "text/x-python",
   "name": "python",
   "nbconvert_exporter": "python",
   "pygments_lexer": "ipython3",
   "version": "3.7.0"
  }
 },
 "nbformat": 4,
 "nbformat_minor": 2
}
